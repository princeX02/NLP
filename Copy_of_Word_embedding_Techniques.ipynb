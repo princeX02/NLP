{
 "cells": [
  {
   "cell_type": "markdown",
   "metadata": {
    "id": "eHNf7J680XF-"
   },
   "source": [
    "### Word Embedding Techniques using Embedding Layer in Keras"
   ]
  },
  {
   "cell_type": "code",
   "execution_count": 1,
   "metadata": {
    "colab": {
     "base_uri": "https://localhost:8080/"
    },
    "id": "yZ5hceiMAX7n",
    "outputId": "f8adfe31-96ee-4fa1-b3b9-17edc8bb3ee8"
   },
   "outputs": [
    {
     "name": "stdout",
     "output_type": "stream",
     "text": [
      "2.17.0\n"
     ]
    }
   ],
   "source": [
    "import tensorflow as tf\n",
    "print(tf.__version__)"
   ]
  },
  {
   "cell_type": "code",
   "execution_count": null,
   "metadata": {
    "colab": {
     "base_uri": "https://localhost:8080/"
    },
    "id": "pslw1Ya90XGC",
    "outputId": "de66f2dd-43d6-4477-9fb8-4ed421b4cbe4"
   },
   "outputs": [],
   "source": [
    "!pip install tensorflow-gpu"
   ]
  },
  {
   "cell_type": "code",
   "execution_count": 2,
   "metadata": {
    "id": "k4nKifUl0XGC"
   },
   "outputs": [],
   "source": [
    "##tensorflow >2.0\n",
    "from tensorflow.keras.preprocessing.text import one_hot"
   ]
  },
  {
   "cell_type": "code",
   "execution_count": null,
   "metadata": {
    "id": "hADTdqZTAUfS"
   },
   "outputs": [],
   "source": []
  },
  {
   "cell_type": "code",
   "execution_count": 3,
   "metadata": {
    "id": "Fu9PuYeu0XGD"
   },
   "outputs": [],
   "source": [
    "### sentences\n",
    "sent=[  'the glass of milk',\n",
    "     'the glass of juice',\n",
    "     'the cup of tea',\n",
    "    'I am a good boy',\n",
    "     'I am a good developer',\n",
    "     'understand the meaning of words',\n",
    "     'your videos are good']"
   ]
  },
  {
   "cell_type": "code",
   "execution_count": 4,
   "metadata": {
    "colab": {
     "base_uri": "https://localhost:8080/"
    },
    "id": "x5d1D3_20XGD",
    "outputId": "3e3abb89-c992-4620-b332-696d5728fa3d"
   },
   "outputs": [
    {
     "name": "stdout",
     "output_type": "stream",
     "text": [
      "The history saving thread hit an unexpected error (OperationalError('attempt to write a readonly database')).History will not be written to the database."
     ]
    },
    {
     "data": {
      "text/plain": [
       "['the glass of milk',\n",
       " 'the glass of juice',\n",
       " 'the cup of tea',\n",
       " 'I am a good boy',\n",
       " 'I am a good developer',\n",
       " 'understand the meaning of words',\n",
       " 'your videos are good']"
      ]
     },
     "execution_count": 4,
     "metadata": {},
     "output_type": "execute_result"
    },
    {
     "name": "stdout",
     "output_type": "stream",
     "text": [
      "\n"
     ]
    }
   ],
   "source": [
    "sent"
   ]
  },
  {
   "cell_type": "code",
   "execution_count": 5,
   "metadata": {
    "id": "tjnXIn3B0XGE"
   },
   "outputs": [],
   "source": [
    "### Vocabulary size\n",
    "voc_size=500"
   ]
  },
  {
   "cell_type": "markdown",
   "metadata": {
    "id": "-vQOdeKk0XGE"
   },
   "source": [
    "#### One Hot Representation"
   ]
  },
  {
   "cell_type": "code",
   "execution_count": 6,
   "metadata": {
    "colab": {
     "base_uri": "https://localhost:8080/"
    },
    "id": "gojfZpAW0XGE",
    "outputId": "edd9dce0-84d3-4fe5-a371-121ccdb726bc"
   },
   "outputs": [
    {
     "name": "stdout",
     "output_type": "stream",
     "text": [
      "[[256, 459, 158, 130], [256, 459, 158, 29], [256, 34, 158, 262], [191, 131, 459, 324, 150], [191, 131, 459, 324, 117], [70, 256, 340, 158, 121], [110, 142, 424, 324]]\n"
     ]
    }
   ],
   "source": [
    "onehot_repr=[one_hot(words,voc_size)for words in sent]\n",
    "print(onehot_repr)"
   ]
  },
  {
   "cell_type": "markdown",
   "metadata": {
    "id": "eYG267x40XGF"
   },
   "source": [
    "### Word Embedding Represntation"
   ]
  },
  {
   "cell_type": "code",
   "execution_count": 7,
   "metadata": {
    "id": "wpqPm0tb0XGF"
   },
   "outputs": [],
   "source": [
    "from tensorflow.keras.layers import Embedding\n",
    "from tensorflow.keras.preprocessing.sequence import pad_sequences\n",
    "from tensorflow.keras.models import Sequential"
   ]
  },
  {
   "cell_type": "code",
   "execution_count": 8,
   "metadata": {
    "id": "Rov3GTM00XGG"
   },
   "outputs": [],
   "source": [
    "import numpy as np"
   ]
  },
  {
   "cell_type": "code",
   "execution_count": 16,
   "metadata": {
    "colab": {
     "base_uri": "https://localhost:8080/"
    },
    "id": "8fQLPw6p0XGG",
    "outputId": "ce86ec66-da15-4988-e300-ff72eeb229ff"
   },
   "outputs": [
    {
     "name": "stdout",
     "output_type": "stream",
     "text": [
      "[[  0   0   0   0 256 459 158 130]\n",
      " [  0   0   0   0 256 459 158  29]\n",
      " [  0   0   0   0 256  34 158 262]\n",
      " [  0   0   0 191 131 459 324 150]\n",
      " [  0   0   0 191 131 459 324 117]\n",
      " [  0   0   0  70 256 340 158 121]\n",
      " [  0   0   0   0 110 142 424 324]]\n"
     ]
    }
   ],
   "source": [
    "## pre padding \n",
    "#(sent_length=8) now it will make each doucuments size equal to 8 either adding fonrt or adding back(pre & post)\n",
    "sent_length=8\n",
    "embedded_docs=pad_sequences(onehot_repr,padding='pre',maxlen=sent_length)\n",
    "print(embedded_docs)"
   ]
  },
  {
   "cell_type": "code",
   "execution_count": 17,
   "metadata": {
    "id": "yjQqBYac0XGG"
   },
   "outputs": [],
   "source": [
    "## 10 feature dimesnions\n",
    "dim=10\n"
   ]
  },
  {
   "cell_type": "code",
   "execution_count": 22,
   "metadata": {},
   "outputs": [],
   "source": [
    "\n"
   ]
  },
  {
   "cell_type": "code",
   "execution_count": 23,
   "metadata": {
    "id": "ozC-TXrt0XGG"
   },
   "outputs": [],
   "source": [
    "model=Sequential()\n",
    "model.add(Embedding(voc_size,10,input_length=sent_length))\n",
    "model.compile('adam','mse')"
   ]
  },
  {
   "cell_type": "code",
   "execution_count": 25,
   "metadata": {},
   "outputs": [],
   "source": [
    "model.build(input_shape=(None, sent_length))\n"
   ]
  },
  {
   "cell_type": "code",
   "execution_count": 26,
   "metadata": {
    "colab": {
     "base_uri": "https://localhost:8080/"
    },
    "id": "tMNvq-Ji0XGH",
    "outputId": "8bde65d1-06cf-4f8b-9767-28077ff2aeca"
   },
   "outputs": [
    {
     "data": {
      "text/html": [
       "<pre style=\"white-space:pre;overflow-x:auto;line-height:normal;font-family:Menlo,'DejaVu Sans Mono',consolas,'Courier New',monospace\"><span style=\"font-weight: bold\">Model: \"sequential_3\"</span>\n",
       "</pre>\n"
      ],
      "text/plain": [
       "\u001b[1mModel: \"sequential_3\"\u001b[0m\n"
      ]
     },
     "metadata": {},
     "output_type": "display_data"
    },
    {
     "data": {
      "text/html": [
       "<pre style=\"white-space:pre;overflow-x:auto;line-height:normal;font-family:Menlo,'DejaVu Sans Mono',consolas,'Courier New',monospace\">┏━━━━━━━━━━━━━━━━━━━━━━━━━━━━━━━━━┳━━━━━━━━━━━━━━━━━━━━━━━━┳━━━━━━━━━━━━━━━┓\n",
       "┃<span style=\"font-weight: bold\"> Layer (type)                    </span>┃<span style=\"font-weight: bold\"> Output Shape           </span>┃<span style=\"font-weight: bold\">       Param # </span>┃\n",
       "┡━━━━━━━━━━━━━━━━━━━━━━━━━━━━━━━━━╇━━━━━━━━━━━━━━━━━━━━━━━━╇━━━━━━━━━━━━━━━┩\n",
       "│ embedding_3 (<span style=\"color: #0087ff; text-decoration-color: #0087ff\">Embedding</span>)         │ (<span style=\"color: #00d7ff; text-decoration-color: #00d7ff\">None</span>, <span style=\"color: #00af00; text-decoration-color: #00af00\">8</span>, <span style=\"color: #00af00; text-decoration-color: #00af00\">10</span>)          │         <span style=\"color: #00af00; text-decoration-color: #00af00\">5,000</span> │\n",
       "└─────────────────────────────────┴────────────────────────┴───────────────┘\n",
       "</pre>\n"
      ],
      "text/plain": [
       "┏━━━━━━━━━━━━━━━━━━━━━━━━━━━━━━━━━┳━━━━━━━━━━━━━━━━━━━━━━━━┳━━━━━━━━━━━━━━━┓\n",
       "┃\u001b[1m \u001b[0m\u001b[1mLayer (type)                   \u001b[0m\u001b[1m \u001b[0m┃\u001b[1m \u001b[0m\u001b[1mOutput Shape          \u001b[0m\u001b[1m \u001b[0m┃\u001b[1m \u001b[0m\u001b[1m      Param #\u001b[0m\u001b[1m \u001b[0m┃\n",
       "┡━━━━━━━━━━━━━━━━━━━━━━━━━━━━━━━━━╇━━━━━━━━━━━━━━━━━━━━━━━━╇━━━━━━━━━━━━━━━┩\n",
       "│ embedding_3 (\u001b[38;5;33mEmbedding\u001b[0m)         │ (\u001b[38;5;45mNone\u001b[0m, \u001b[38;5;34m8\u001b[0m, \u001b[38;5;34m10\u001b[0m)          │         \u001b[38;5;34m5,000\u001b[0m │\n",
       "└─────────────────────────────────┴────────────────────────┴───────────────┘\n"
      ]
     },
     "metadata": {},
     "output_type": "display_data"
    },
    {
     "data": {
      "text/html": [
       "<pre style=\"white-space:pre;overflow-x:auto;line-height:normal;font-family:Menlo,'DejaVu Sans Mono',consolas,'Courier New',monospace\"><span style=\"font-weight: bold\"> Total params: </span><span style=\"color: #00af00; text-decoration-color: #00af00\">5,000</span> (19.53 KB)\n",
       "</pre>\n"
      ],
      "text/plain": [
       "\u001b[1m Total params: \u001b[0m\u001b[38;5;34m5,000\u001b[0m (19.53 KB)\n"
      ]
     },
     "metadata": {},
     "output_type": "display_data"
    },
    {
     "data": {
      "text/html": [
       "<pre style=\"white-space:pre;overflow-x:auto;line-height:normal;font-family:Menlo,'DejaVu Sans Mono',consolas,'Courier New',monospace\"><span style=\"font-weight: bold\"> Trainable params: </span><span style=\"color: #00af00; text-decoration-color: #00af00\">5,000</span> (19.53 KB)\n",
       "</pre>\n"
      ],
      "text/plain": [
       "\u001b[1m Trainable params: \u001b[0m\u001b[38;5;34m5,000\u001b[0m (19.53 KB)\n"
      ]
     },
     "metadata": {},
     "output_type": "display_data"
    },
    {
     "data": {
      "text/html": [
       "<pre style=\"white-space:pre;overflow-x:auto;line-height:normal;font-family:Menlo,'DejaVu Sans Mono',consolas,'Courier New',monospace\"><span style=\"font-weight: bold\"> Non-trainable params: </span><span style=\"color: #00af00; text-decoration-color: #00af00\">0</span> (0.00 B)\n",
       "</pre>\n"
      ],
      "text/plain": [
       "\u001b[1m Non-trainable params: \u001b[0m\u001b[38;5;34m0\u001b[0m (0.00 B)\n"
      ]
     },
     "metadata": {},
     "output_type": "display_data"
    }
   ],
   "source": [
    "model.summary()"
   ]
  },
  {
   "cell_type": "code",
   "execution_count": 27,
   "metadata": {
    "colab": {
     "base_uri": "https://localhost:8080/"
    },
    "id": "FC4Ess_FEcb3",
    "outputId": "e35d2a7c-ff4b-4332-c2c2-dc32249595a6"
   },
   "outputs": [
    {
     "data": {
      "text/plain": [
       "array([  0,   0,   0,   0, 256, 459, 158, 130], dtype=int32)"
      ]
     },
     "execution_count": 27,
     "metadata": {},
     "output_type": "execute_result"
    }
   ],
   "source": [
    "##'the glass of milk',\n",
    "embedded_docs[0]"
   ]
  },
  {
   "cell_type": "code",
   "execution_count": 30,
   "metadata": {
    "colab": {
     "base_uri": "https://localhost:8080/"
    },
    "id": "bRqEvMBYEZUS",
    "outputId": "021bd422-238e-4a3f-daa2-09323ef3153a"
   },
   "outputs": [
    {
     "name": "stdout",
     "output_type": "stream",
     "text": [
      "\u001b[1m1/1\u001b[0m \u001b[32m━━━━━━━━━━━━━━━━━━━━\u001b[0m\u001b[37m\u001b[0m \u001b[1m0s\u001b[0m 82ms/step\n"
     ]
    },
    {
     "data": {
      "text/plain": [
       "array([[[-0.01408218, -0.04184358, -0.01768235, -0.01862301,\n",
       "          0.02720964, -0.03113412, -0.01928778, -0.02018884,\n",
       "          0.0373495 , -0.04419193],\n",
       "        [-0.01408218, -0.04184358, -0.01768235, -0.01862301,\n",
       "          0.02720964, -0.03113412, -0.01928778, -0.02018884,\n",
       "          0.0373495 , -0.04419193],\n",
       "        [-0.01408218, -0.04184358, -0.01768235, -0.01862301,\n",
       "          0.02720964, -0.03113412, -0.01928778, -0.02018884,\n",
       "          0.0373495 , -0.04419193],\n",
       "        [-0.01408218, -0.04184358, -0.01768235, -0.01862301,\n",
       "          0.02720964, -0.03113412, -0.01928778, -0.02018884,\n",
       "          0.0373495 , -0.04419193],\n",
       "        [-0.0260645 ,  0.04457464,  0.02662445, -0.01511338,\n",
       "          0.04619311, -0.00639349, -0.01453079,  0.00772757,\n",
       "          0.00759317, -0.04355798],\n",
       "        [ 0.02932507, -0.02260201,  0.04700868, -0.01890935,\n",
       "          0.00083898, -0.01810529,  0.00854491,  0.00721275,\n",
       "         -0.03150222,  0.03325902],\n",
       "        [ 0.04961834, -0.01638038,  0.04194144,  0.02243939,\n",
       "          0.04894146,  0.02964598,  0.01045962, -0.00213005,\n",
       "         -0.02547028, -0.00889922],\n",
       "        [-0.0263249 , -0.03019526, -0.00886698,  0.01325544,\n",
       "          0.02451685,  0.03619076,  0.03065891, -0.03607948,\n",
       "          0.00262008, -0.01855182]]], dtype=float32)"
      ]
     },
     "execution_count": 30,
     "metadata": {},
     "output_type": "execute_result"
    }
   ],
   "source": [
    "#model.predict(embedded_docs[0])\n",
    "model.predict(embedded_docs[0].reshape(1, -1))\n"
   ]
  },
  {
   "cell_type": "code",
   "execution_count": 31,
   "metadata": {
    "colab": {
     "base_uri": "https://localhost:8080/"
    },
    "id": "kzKP69gx0XGH",
    "outputId": "4558c7ab-6692-4aa3-b958-e7bbfeb0474d"
   },
   "outputs": [
    {
     "name": "stdout",
     "output_type": "stream",
     "text": [
      "\u001b[1m1/1\u001b[0m \u001b[32m━━━━━━━━━━━━━━━━━━━━\u001b[0m\u001b[37m\u001b[0m \u001b[1m0s\u001b[0m 19ms/step\n",
      "[[[-0.01408218 -0.04184358 -0.01768235 -0.01862301  0.02720964\n",
      "   -0.03113412 -0.01928778 -0.02018884  0.0373495  -0.04419193]\n",
      "  [-0.01408218 -0.04184358 -0.01768235 -0.01862301  0.02720964\n",
      "   -0.03113412 -0.01928778 -0.02018884  0.0373495  -0.04419193]\n",
      "  [-0.01408218 -0.04184358 -0.01768235 -0.01862301  0.02720964\n",
      "   -0.03113412 -0.01928778 -0.02018884  0.0373495  -0.04419193]\n",
      "  [-0.01408218 -0.04184358 -0.01768235 -0.01862301  0.02720964\n",
      "   -0.03113412 -0.01928778 -0.02018884  0.0373495  -0.04419193]\n",
      "  [-0.0260645   0.04457464  0.02662445 -0.01511338  0.04619311\n",
      "   -0.00639349 -0.01453079  0.00772757  0.00759317 -0.04355798]\n",
      "  [ 0.02932507 -0.02260201  0.04700868 -0.01890935  0.00083898\n",
      "   -0.01810529  0.00854491  0.00721275 -0.03150222  0.03325902]\n",
      "  [ 0.04961834 -0.01638038  0.04194144  0.02243939  0.04894146\n",
      "    0.02964598  0.01045962 -0.00213005 -0.02547028 -0.00889922]\n",
      "  [-0.0263249  -0.03019526 -0.00886698  0.01325544  0.02451685\n",
      "    0.03619076  0.03065891 -0.03607948  0.00262008 -0.01855182]]\n",
      "\n",
      " [[-0.01408218 -0.04184358 -0.01768235 -0.01862301  0.02720964\n",
      "   -0.03113412 -0.01928778 -0.02018884  0.0373495  -0.04419193]\n",
      "  [-0.01408218 -0.04184358 -0.01768235 -0.01862301  0.02720964\n",
      "   -0.03113412 -0.01928778 -0.02018884  0.0373495  -0.04419193]\n",
      "  [-0.01408218 -0.04184358 -0.01768235 -0.01862301  0.02720964\n",
      "   -0.03113412 -0.01928778 -0.02018884  0.0373495  -0.04419193]\n",
      "  [-0.01408218 -0.04184358 -0.01768235 -0.01862301  0.02720964\n",
      "   -0.03113412 -0.01928778 -0.02018884  0.0373495  -0.04419193]\n",
      "  [-0.0260645   0.04457464  0.02662445 -0.01511338  0.04619311\n",
      "   -0.00639349 -0.01453079  0.00772757  0.00759317 -0.04355798]\n",
      "  [ 0.02932507 -0.02260201  0.04700868 -0.01890935  0.00083898\n",
      "   -0.01810529  0.00854491  0.00721275 -0.03150222  0.03325902]\n",
      "  [ 0.04961834 -0.01638038  0.04194144  0.02243939  0.04894146\n",
      "    0.02964598  0.01045962 -0.00213005 -0.02547028 -0.00889922]\n",
      "  [ 0.01200093 -0.01655475  0.01362418  0.03420706  0.00950439\n",
      "   -0.0062843  -0.02400491  0.03489855 -0.02492995  0.02655436]]\n",
      "\n",
      " [[-0.01408218 -0.04184358 -0.01768235 -0.01862301  0.02720964\n",
      "   -0.03113412 -0.01928778 -0.02018884  0.0373495  -0.04419193]\n",
      "  [-0.01408218 -0.04184358 -0.01768235 -0.01862301  0.02720964\n",
      "   -0.03113412 -0.01928778 -0.02018884  0.0373495  -0.04419193]\n",
      "  [-0.01408218 -0.04184358 -0.01768235 -0.01862301  0.02720964\n",
      "   -0.03113412 -0.01928778 -0.02018884  0.0373495  -0.04419193]\n",
      "  [-0.01408218 -0.04184358 -0.01768235 -0.01862301  0.02720964\n",
      "   -0.03113412 -0.01928778 -0.02018884  0.0373495  -0.04419193]\n",
      "  [-0.0260645   0.04457464  0.02662445 -0.01511338  0.04619311\n",
      "   -0.00639349 -0.01453079  0.00772757  0.00759317 -0.04355798]\n",
      "  [-0.04967895 -0.02244532 -0.01083819 -0.02177687  0.00557024\n",
      "   -0.03240891 -0.04273174  0.00398108 -0.01845879  0.00643002]\n",
      "  [ 0.04961834 -0.01638038  0.04194144  0.02243939  0.04894146\n",
      "    0.02964598  0.01045962 -0.00213005 -0.02547028 -0.00889922]\n",
      "  [-0.03648625  0.01626426 -0.00115029 -0.04578901 -0.03884076\n",
      "   -0.04899827  0.04342322  0.01308871 -0.0482572  -0.04727831]]\n",
      "\n",
      " [[-0.01408218 -0.04184358 -0.01768235 -0.01862301  0.02720964\n",
      "   -0.03113412 -0.01928778 -0.02018884  0.0373495  -0.04419193]\n",
      "  [-0.01408218 -0.04184358 -0.01768235 -0.01862301  0.02720964\n",
      "   -0.03113412 -0.01928778 -0.02018884  0.0373495  -0.04419193]\n",
      "  [-0.01408218 -0.04184358 -0.01768235 -0.01862301  0.02720964\n",
      "   -0.03113412 -0.01928778 -0.02018884  0.0373495  -0.04419193]\n",
      "  [-0.03759845 -0.04308179  0.02636527  0.02519423  0.00381284\n",
      "    0.01366108  0.01900123  0.04563663  0.00893195  0.0429258 ]\n",
      "  [-0.00092984  0.02691508  0.0340112   0.01477282 -0.01271672\n",
      "    0.04909084  0.02866656 -0.02020873  0.01976353 -0.00643464]\n",
      "  [ 0.02932507 -0.02260201  0.04700868 -0.01890935  0.00083898\n",
      "   -0.01810529  0.00854491  0.00721275 -0.03150222  0.03325902]\n",
      "  [-0.02302822  0.02482731  0.04437901 -0.0274987  -0.02404547\n",
      "    0.02340296  0.02442474  0.00786233 -0.00560207  0.02645965]\n",
      "  [ 0.01236013  0.03554099 -0.0439122   0.03229732 -0.00429114\n",
      "    0.02003643 -0.04284627 -0.01559701  0.02058085 -0.01533644]]\n",
      "\n",
      " [[-0.01408218 -0.04184358 -0.01768235 -0.01862301  0.02720964\n",
      "   -0.03113412 -0.01928778 -0.02018884  0.0373495  -0.04419193]\n",
      "  [-0.01408218 -0.04184358 -0.01768235 -0.01862301  0.02720964\n",
      "   -0.03113412 -0.01928778 -0.02018884  0.0373495  -0.04419193]\n",
      "  [-0.01408218 -0.04184358 -0.01768235 -0.01862301  0.02720964\n",
      "   -0.03113412 -0.01928778 -0.02018884  0.0373495  -0.04419193]\n",
      "  [-0.03759845 -0.04308179  0.02636527  0.02519423  0.00381284\n",
      "    0.01366108  0.01900123  0.04563663  0.00893195  0.0429258 ]\n",
      "  [-0.00092984  0.02691508  0.0340112   0.01477282 -0.01271672\n",
      "    0.04909084  0.02866656 -0.02020873  0.01976353 -0.00643464]\n",
      "  [ 0.02932507 -0.02260201  0.04700868 -0.01890935  0.00083898\n",
      "   -0.01810529  0.00854491  0.00721275 -0.03150222  0.03325902]\n",
      "  [-0.02302822  0.02482731  0.04437901 -0.0274987  -0.02404547\n",
      "    0.02340296  0.02442474  0.00786233 -0.00560207  0.02645965]\n",
      "  [-0.00398297 -0.02994988 -0.03909683 -0.00539332 -0.03045788\n",
      "   -0.03885568 -0.01773851  0.0483812  -0.02522663  0.01074456]]\n",
      "\n",
      " [[-0.01408218 -0.04184358 -0.01768235 -0.01862301  0.02720964\n",
      "   -0.03113412 -0.01928778 -0.02018884  0.0373495  -0.04419193]\n",
      "  [-0.01408218 -0.04184358 -0.01768235 -0.01862301  0.02720964\n",
      "   -0.03113412 -0.01928778 -0.02018884  0.0373495  -0.04419193]\n",
      "  [-0.01408218 -0.04184358 -0.01768235 -0.01862301  0.02720964\n",
      "   -0.03113412 -0.01928778 -0.02018884  0.0373495  -0.04419193]\n",
      "  [ 0.02098447 -0.00619138 -0.00979809 -0.02524654  0.03521383\n",
      "   -0.00258229 -0.00570594  0.04839073 -0.03782822  0.02998836]\n",
      "  [-0.0260645   0.04457464  0.02662445 -0.01511338  0.04619311\n",
      "   -0.00639349 -0.01453079  0.00772757  0.00759317 -0.04355798]\n",
      "  [ 0.01255915  0.02687622  0.00549468 -0.03504024 -0.03797752\n",
      "   -0.0247611   0.03293642 -0.02207681  0.01606028 -0.03607722]\n",
      "  [ 0.04961834 -0.01638038  0.04194144  0.02243939  0.04894146\n",
      "    0.02964598  0.01045962 -0.00213005 -0.02547028 -0.00889922]\n",
      "  [-0.03544544 -0.02191787 -0.02258833  0.04327465 -0.0121524\n",
      "   -0.02139421 -0.04008254  0.01114806 -0.04751902  0.02287196]]\n",
      "\n",
      " [[-0.01408218 -0.04184358 -0.01768235 -0.01862301  0.02720964\n",
      "   -0.03113412 -0.01928778 -0.02018884  0.0373495  -0.04419193]\n",
      "  [-0.01408218 -0.04184358 -0.01768235 -0.01862301  0.02720964\n",
      "   -0.03113412 -0.01928778 -0.02018884  0.0373495  -0.04419193]\n",
      "  [-0.01408218 -0.04184358 -0.01768235 -0.01862301  0.02720964\n",
      "   -0.03113412 -0.01928778 -0.02018884  0.0373495  -0.04419193]\n",
      "  [-0.01408218 -0.04184358 -0.01768235 -0.01862301  0.02720964\n",
      "   -0.03113412 -0.01928778 -0.02018884  0.0373495  -0.04419193]\n",
      "  [ 0.04876579  0.01733739 -0.01227599  0.02008503 -0.02151432\n",
      "   -0.0093546   0.04078585  0.03277868  0.01392836  0.04989625]\n",
      "  [-0.02842089  0.03250528 -0.00119651 -0.01931169 -0.03728349\n",
      "   -0.04781068  0.03180033  0.02418504 -0.00774194  0.01144612]\n",
      "  [-0.03321888  0.00264464  0.04655151 -0.01976418  0.04433795\n",
      "   -0.02363776  0.03268215 -0.02707005 -0.00525822 -0.00456863]\n",
      "  [-0.02302822  0.02482731  0.04437901 -0.0274987  -0.02404547\n",
      "    0.02340296  0.02442474  0.00786233 -0.00560207  0.02645965]]]\n"
     ]
    }
   ],
   "source": [
    "print(model.predict(embedded_docs))"
   ]
  },
  {
   "cell_type": "code",
   "execution_count": 32,
   "metadata": {
    "id": "JuUxfk7d0XGH",
    "outputId": "c28e6fc6-3db2-4975-9dd3-950b7da8c67e"
   },
   "outputs": [
    {
     "data": {
      "text/plain": [
       "array([  0,   0,   0,   0, 256, 459, 158, 130], dtype=int32)"
      ]
     },
     "execution_count": 32,
     "metadata": {},
     "output_type": "execute_result"
    }
   ],
   "source": [
    "embedded_docs[0]"
   ]
  },
  {
   "cell_type": "code",
   "execution_count": 33,
   "metadata": {
    "id": "6JJ_zD0u0XGH",
    "outputId": "8b2b65cb-457b-46f4-dd60-c5fe8ab0566f"
   },
   "outputs": [
    {
     "name": "stdout",
     "output_type": "stream",
     "text": [
      "\u001b[1m1/1\u001b[0m \u001b[32m━━━━━━━━━━━━━━━━━━━━\u001b[0m\u001b[37m\u001b[0m \u001b[1m0s\u001b[0m 19ms/step\n",
      "[[-0.01408218 -0.04184358 -0.01768235 -0.01862301  0.02720964 -0.03113412\n",
      "  -0.01928778 -0.02018884  0.0373495  -0.04419193]\n",
      " [-0.01408218 -0.04184358 -0.01768235 -0.01862301  0.02720964 -0.03113412\n",
      "  -0.01928778 -0.02018884  0.0373495  -0.04419193]\n",
      " [-0.01408218 -0.04184358 -0.01768235 -0.01862301  0.02720964 -0.03113412\n",
      "  -0.01928778 -0.02018884  0.0373495  -0.04419193]\n",
      " [-0.01408218 -0.04184358 -0.01768235 -0.01862301  0.02720964 -0.03113412\n",
      "  -0.01928778 -0.02018884  0.0373495  -0.04419193]\n",
      " [-0.0260645   0.04457464  0.02662445 -0.01511338  0.04619311 -0.00639349\n",
      "  -0.01453079  0.00772757  0.00759317 -0.04355798]\n",
      " [ 0.02932507 -0.02260201  0.04700868 -0.01890935  0.00083898 -0.01810529\n",
      "   0.00854491  0.00721275 -0.03150222  0.03325902]\n",
      " [ 0.04961834 -0.01638038  0.04194144  0.02243939  0.04894146  0.02964598\n",
      "   0.01045962 -0.00213005 -0.02547028 -0.00889922]\n",
      " [-0.0263249  -0.03019526 -0.00886698  0.01325544  0.02451685  0.03619076\n",
      "   0.03065891 -0.03607948  0.00262008 -0.01855182]]\n"
     ]
    }
   ],
   "source": [
    "print(model.predict(embedded_docs)[0])"
   ]
  },
  {
   "cell_type": "code",
   "execution_count": 34,
   "metadata": {
    "id": "8OMu3iAz0XGH"
   },
   "outputs": [],
   "source": [
    "### Assignment\n",
    "\n",
    "sent=[\"The world is a better place\",\n",
    "      \"Marvel series is my favourite movie\",\n",
    "      \"I like DC movies\",\n",
    "      \"the cat is eating the food\",\n",
    "      \"Tom and Jerry is my favourite movie\",\n",
    "      \"Python is my favourite programming language\"\n",
    "      ]"
   ]
  },
  {
   "cell_type": "code",
   "execution_count": null,
   "metadata": {},
   "outputs": [],
   "source": []
  },
  {
   "cell_type": "code",
   "execution_count": null,
   "metadata": {},
   "outputs": [],
   "source": []
  },
  {
   "cell_type": "code",
   "execution_count": null,
   "metadata": {
    "id": "PEsK0_yl0XGB"
   },
   "outputs": [],
   "source": [
    "### Libraries USed Tensorflow> 2.0  and keras"
   ]
  }
 ],
 "metadata": {
  "accelerator": "GPU",
  "colab": {
   "provenance": []
  },
  "gpuClass": "standard",
  "kernelspec": {
   "display_name": "Python (myenv)",
   "language": "python",
   "name": "myenv"
  },
  "language_info": {
   "codemirror_mode": {
    "name": "ipython",
    "version": 3
   },
   "file_extension": ".py",
   "mimetype": "text/x-python",
   "name": "python",
   "nbconvert_exporter": "python",
   "pygments_lexer": "ipython3",
   "version": "3.12.2"
  }
 },
 "nbformat": 4,
 "nbformat_minor": 4
}
